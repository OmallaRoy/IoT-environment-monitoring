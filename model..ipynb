{
 "cells": [
  {
   "cell_type": "code",
   "execution_count": 1,
   "id": "04d1ec26",
   "metadata": {},
   "outputs": [],
   "source": [
    "import pandas as pd\n",
    "from sklearn.model_selection import train_test_split\n",
    "from sklearn.ensemble import RandomForestRegressor\n",
    "from sklearn.metrics import mean_absolute_error\n",
    "import numpy as np\n",
    "from sklearn.multioutput import MultiOutputRegressor\n",
    "from sklearn.ensemble import RandomForestRegressor\n",
    "from sklearn.metrics import mean_squared_error\n",
    "\n"
   ]
  },
  {
   "cell_type": "code",
   "execution_count": 2,
   "id": "934346f9",
   "metadata": {},
   "outputs": [
    {
     "data": {
      "text/html": [
       "<div>\n",
       "<style scoped>\n",
       "    .dataframe tbody tr th:only-of-type {\n",
       "        vertical-align: middle;\n",
       "    }\n",
       "\n",
       "    .dataframe tbody tr th {\n",
       "        vertical-align: top;\n",
       "    }\n",
       "\n",
       "    .dataframe thead th {\n",
       "        text-align: right;\n",
       "    }\n",
       "</style>\n",
       "<table border=\"1\" class=\"dataframe\">\n",
       "  <thead>\n",
       "    <tr style=\"text-align: right;\">\n",
       "      <th></th>\n",
       "      <th>timestamp</th>\n",
       "      <th>Battery</th>\n",
       "      <th>Humidity</th>\n",
       "      <th>Motion</th>\n",
       "      <th>Temperature</th>\n",
       "    </tr>\n",
       "  </thead>\n",
       "  <tbody>\n",
       "    <tr>\n",
       "      <th>0</th>\n",
       "      <td>2025-10-03T07:23:57.372953+03:00</td>\n",
       "      <td>3.066</td>\n",
       "      <td>62.3</td>\n",
       "      <td>0</td>\n",
       "      <td>26.75</td>\n",
       "    </tr>\n",
       "    <tr>\n",
       "      <th>1</th>\n",
       "      <td>2025-10-03T07:25:12+03:00</td>\n",
       "      <td>3.066</td>\n",
       "      <td>63.4</td>\n",
       "      <td>1</td>\n",
       "      <td>26.51</td>\n",
       "    </tr>\n",
       "    <tr>\n",
       "      <th>2</th>\n",
       "      <td>2025-10-03T07:25:12.824344+03:00</td>\n",
       "      <td>3.066</td>\n",
       "      <td>63.4</td>\n",
       "      <td>1</td>\n",
       "      <td>26.51</td>\n",
       "    </tr>\n",
       "    <tr>\n",
       "      <th>3</th>\n",
       "      <td>2025-10-03T07:34:17+03:00</td>\n",
       "      <td>3.066</td>\n",
       "      <td>65.1</td>\n",
       "      <td>2</td>\n",
       "      <td>25.64</td>\n",
       "    </tr>\n",
       "    <tr>\n",
       "      <th>4</th>\n",
       "      <td>2025-10-03T07:34:17.003882+03:00</td>\n",
       "      <td>3.066</td>\n",
       "      <td>65.1</td>\n",
       "      <td>2</td>\n",
       "      <td>25.64</td>\n",
       "    </tr>\n",
       "  </tbody>\n",
       "</table>\n",
       "</div>"
      ],
      "text/plain": [
       "                          timestamp  Battery  Humidity  Motion  Temperature\n",
       "0  2025-10-03T07:23:57.372953+03:00    3.066      62.3       0        26.75\n",
       "1         2025-10-03T07:25:12+03:00    3.066      63.4       1        26.51\n",
       "2  2025-10-03T07:25:12.824344+03:00    3.066      63.4       1        26.51\n",
       "3         2025-10-03T07:34:17+03:00    3.066      65.1       2        25.64\n",
       "4  2025-10-03T07:34:17.003882+03:00    3.066      65.1       2        25.64"
      ]
     },
     "execution_count": 2,
     "metadata": {},
     "output_type": "execute_result"
    }
   ],
   "source": [
    "df = pd.read_csv(\"sensor_data.csv\", parse_dates=['timestamp'])\n",
    "df = df.sort_values('timestamp').reset_index(drop=True)\n",
    "df.head()"
   ]
  },
  {
   "cell_type": "code",
   "execution_count": 3,
   "id": "511ff7c8",
   "metadata": {},
   "outputs": [
    {
     "name": "stdout",
     "output_type": "stream",
     "text": [
      "<class 'pandas.core.frame.DataFrame'>\n",
      "RangeIndex: 693 entries, 0 to 692\n",
      "Data columns (total 5 columns):\n",
      " #   Column       Non-Null Count  Dtype  \n",
      "---  ------       --------------  -----  \n",
      " 0   timestamp    693 non-null    object \n",
      " 1   Battery      693 non-null    float64\n",
      " 2   Humidity     693 non-null    float64\n",
      " 3   Motion       693 non-null    int64  \n",
      " 4   Temperature  693 non-null    float64\n",
      "dtypes: float64(3), int64(1), object(1)\n",
      "memory usage: 27.2+ KB\n"
     ]
    }
   ],
   "source": [
    "df.shape\n",
    "df.info()"
   ]
  },
  {
   "cell_type": "code",
   "execution_count": 4,
   "id": "0966733f",
   "metadata": {},
   "outputs": [
    {
     "data": {
      "text/html": [
       "<div>\n",
       "<style scoped>\n",
       "    .dataframe tbody tr th:only-of-type {\n",
       "        vertical-align: middle;\n",
       "    }\n",
       "\n",
       "    .dataframe tbody tr th {\n",
       "        vertical-align: top;\n",
       "    }\n",
       "\n",
       "    .dataframe thead th {\n",
       "        text-align: right;\n",
       "    }\n",
       "</style>\n",
       "<table border=\"1\" class=\"dataframe\">\n",
       "  <thead>\n",
       "    <tr style=\"text-align: right;\">\n",
       "      <th></th>\n",
       "      <th>timestamp</th>\n",
       "      <th>Battery</th>\n",
       "      <th>Humidity</th>\n",
       "      <th>Motion</th>\n",
       "      <th>Temperature</th>\n",
       "    </tr>\n",
       "  </thead>\n",
       "  <tbody>\n",
       "    <tr>\n",
       "      <th>count</th>\n",
       "      <td>693</td>\n",
       "      <td>693.000000</td>\n",
       "      <td>693.000000</td>\n",
       "      <td>693.000000</td>\n",
       "      <td>693.000000</td>\n",
       "    </tr>\n",
       "    <tr>\n",
       "      <th>unique</th>\n",
       "      <td>693</td>\n",
       "      <td>NaN</td>\n",
       "      <td>NaN</td>\n",
       "      <td>NaN</td>\n",
       "      <td>NaN</td>\n",
       "    </tr>\n",
       "    <tr>\n",
       "      <th>top</th>\n",
       "      <td>2025-10-07T19:32:09+03:00</td>\n",
       "      <td>NaN</td>\n",
       "      <td>NaN</td>\n",
       "      <td>NaN</td>\n",
       "      <td>NaN</td>\n",
       "    </tr>\n",
       "    <tr>\n",
       "      <th>freq</th>\n",
       "      <td>1</td>\n",
       "      <td>NaN</td>\n",
       "      <td>NaN</td>\n",
       "      <td>NaN</td>\n",
       "      <td>NaN</td>\n",
       "    </tr>\n",
       "    <tr>\n",
       "      <th>mean</th>\n",
       "      <td>NaN</td>\n",
       "      <td>3.073068</td>\n",
       "      <td>70.761472</td>\n",
       "      <td>3044.090909</td>\n",
       "      <td>24.668932</td>\n",
       "    </tr>\n",
       "    <tr>\n",
       "      <th>std</th>\n",
       "      <td>NaN</td>\n",
       "      <td>0.002997</td>\n",
       "      <td>2.245613</td>\n",
       "      <td>2015.603801</td>\n",
       "      <td>0.482345</td>\n",
       "    </tr>\n",
       "    <tr>\n",
       "      <th>min</th>\n",
       "      <td>NaN</td>\n",
       "      <td>3.065000</td>\n",
       "      <td>62.300000</td>\n",
       "      <td>0.000000</td>\n",
       "      <td>23.760000</td>\n",
       "    </tr>\n",
       "    <tr>\n",
       "      <th>25%</th>\n",
       "      <td>NaN</td>\n",
       "      <td>3.071000</td>\n",
       "      <td>69.800000</td>\n",
       "      <td>191.000000</td>\n",
       "      <td>24.310000</td>\n",
       "    </tr>\n",
       "    <tr>\n",
       "      <th>50%</th>\n",
       "      <td>NaN</td>\n",
       "      <td>3.074000</td>\n",
       "      <td>70.900000</td>\n",
       "      <td>4400.000000</td>\n",
       "      <td>24.690000</td>\n",
       "    </tr>\n",
       "    <tr>\n",
       "      <th>75%</th>\n",
       "      <td>NaN</td>\n",
       "      <td>3.075000</td>\n",
       "      <td>71.800000</td>\n",
       "      <td>4711.000000</td>\n",
       "      <td>24.890000</td>\n",
       "    </tr>\n",
       "    <tr>\n",
       "      <th>max</th>\n",
       "      <td>NaN</td>\n",
       "      <td>3.077000</td>\n",
       "      <td>75.200000</td>\n",
       "      <td>5868.000000</td>\n",
       "      <td>26.750000</td>\n",
       "    </tr>\n",
       "  </tbody>\n",
       "</table>\n",
       "</div>"
      ],
      "text/plain": [
       "                        timestamp     Battery    Humidity       Motion  \\\n",
       "count                         693  693.000000  693.000000   693.000000   \n",
       "unique                        693         NaN         NaN          NaN   \n",
       "top     2025-10-07T19:32:09+03:00         NaN         NaN          NaN   \n",
       "freq                            1         NaN         NaN          NaN   \n",
       "mean                          NaN    3.073068   70.761472  3044.090909   \n",
       "std                           NaN    0.002997    2.245613  2015.603801   \n",
       "min                           NaN    3.065000   62.300000     0.000000   \n",
       "25%                           NaN    3.071000   69.800000   191.000000   \n",
       "50%                           NaN    3.074000   70.900000  4400.000000   \n",
       "75%                           NaN    3.075000   71.800000  4711.000000   \n",
       "max                           NaN    3.077000   75.200000  5868.000000   \n",
       "\n",
       "        Temperature  \n",
       "count    693.000000  \n",
       "unique          NaN  \n",
       "top             NaN  \n",
       "freq            NaN  \n",
       "mean      24.668932  \n",
       "std        0.482345  \n",
       "min       23.760000  \n",
       "25%       24.310000  \n",
       "50%       24.690000  \n",
       "75%       24.890000  \n",
       "max       26.750000  "
      ]
     },
     "execution_count": 4,
     "metadata": {},
     "output_type": "execute_result"
    }
   ],
   "source": [
    "df.describe(include='all')"
   ]
  },
  {
   "cell_type": "code",
   "execution_count": 5,
   "id": "982f79a3",
   "metadata": {},
   "outputs": [
    {
     "data": {
      "text/plain": [
       "timestamp      0\n",
       "Battery        0\n",
       "Humidity       0\n",
       "Motion         0\n",
       "Temperature    0\n",
       "dtype: int64"
      ]
     },
     "execution_count": 5,
     "metadata": {},
     "output_type": "execute_result"
    }
   ],
   "source": [
    "df.isnull().sum()"
   ]
  },
  {
   "cell_type": "code",
   "execution_count": 6,
   "id": "8a553b40",
   "metadata": {},
   "outputs": [
    {
     "name": "stdout",
     "output_type": "stream",
     "text": [
      "Number of duplicates: 0\n"
     ]
    }
   ],
   "source": [
    "print(f\"Number of duplicates: {df.duplicated().sum()}\")"
   ]
  },
  {
   "cell_type": "code",
   "execution_count": 7,
   "id": "6aa77bda",
   "metadata": {},
   "outputs": [],
   "source": [
    "# Create lag features for temperature\n",
    "df['temp_lag1'] = df['Temperature'].shift(1)\n",
    "df['temp_lag2'] = df['Temperature'].shift(2)\n",
    "df['temp_lag3'] = df['Temperature'].shift(3)\n",
    "\n",
    "# Create lag features for humidity\n",
    "df['hum_lag1'] = df['Humidity'].shift(1)\n",
    "df['hum_lag2'] = df['Humidity'].shift(2)\n",
    "df['hum_lag3'] = df['Humidity'].shift(3)\n",
    "\n",
    "# Target: next reading (~30 min ahead)\n",
    "df['temp_next'] = df['Temperature'].shift(-1)\n",
    "df['hum_next'] = df['Humidity'].shift(-1)\n",
    "\n",
    "# Drop rows with NaN due to shifting\n",
    "df.dropna(inplace=True)\n"
   ]
  },
  {
   "cell_type": "code",
   "execution_count": 8,
   "id": "af50fa75",
   "metadata": {},
   "outputs": [],
   "source": [
    "features = ['temp_lag1','temp_lag2','temp_lag3',\n",
    "            'hum_lag1','hum_lag2','hum_lag3']\n",
    "\n",
    "X = df[features]\n",
    "Y = df[['temp_next', 'hum_next']]   # two targets together\n",
    "\n",
    "# Chronological split (no shuffling)\n",
    "split_idx = int(len(df)*0.8)\n",
    "X_train, X_test = X.iloc[:split_idx], X.iloc[split_idx:]\n",
    "Y_train, Y_test = Y.iloc[:split_idx], Y.iloc[split_idx:]"
   ]
  },
  {
   "cell_type": "code",
   "execution_count": 9,
   "id": "d849869b",
   "metadata": {},
   "outputs": [
    {
     "name": "stdout",
     "output_type": "stream",
     "text": [
      "Temp RMSE: 0.157\n",
      "Hum  RMSE: 0.917\n"
     ]
    }
   ],
   "source": [
    "rf = MultiOutputRegressor(\n",
    "        RandomForestRegressor(\n",
    "            n_estimators=200,\n",
    "            random_state=42\n",
    "        )\n",
    "    )\n",
    "\n",
    "# Train\n",
    "rf.fit(X_train, Y_train)\n",
    "\n",
    "# Predict\n",
    "Y_pred = rf.predict(X_test)\n",
    "\n",
    "# Separate predictions if needed\n",
    "temp_pred = Y_pred[:, 0]\n",
    "hum_pred  = Y_pred[:, 1]\n",
    "\n",
    "# Evaluate (example with RMSE for each target)\n",
    "rmse_temp = np.sqrt(mean_squared_error(Y_test.iloc[:,0], temp_pred))\n",
    "rmse_hum  = np.sqrt(mean_squared_error(Y_test.iloc[:,1], hum_pred))\n",
    "\n",
    "print(f\"Temp RMSE: {rmse_temp:.3f}\")\n",
    "print(f\"Hum  RMSE: {rmse_hum:.3f}\")"
   ]
  },
  {
   "cell_type": "code",
   "execution_count": 10,
   "id": "d38ff1e5",
   "metadata": {},
   "outputs": [
    {
     "data": {
      "text/plain": [
       "['temp_hum_model.joblib']"
      ]
     },
     "execution_count": 10,
     "metadata": {},
     "output_type": "execute_result"
    }
   ],
   "source": [
    "import joblib\n",
    "\n",
    "# Save the combined temperature + humidity model\n",
    "joblib.dump(rf, \"temp_hum_model.joblib\")\n"
   ]
  },
  {
   "cell_type": "code",
   "execution_count": 11,
   "id": "bd0eb094",
   "metadata": {},
   "outputs": [
    {
     "name": "stdout",
     "output_type": "stream",
     "text": [
      "Next reading forecast -> Temp: 24.69 °C, Humidity: 71.1 %\n"
     ]
    }
   ],
   "source": [
    "import joblib\n",
    "import pandas as pd\n",
    "\n",
    "# Load the combined model\n",
    "rf = joblib.load(\"temp_hum_model.joblib\")\n",
    "\n",
    "# Take the last 3 readings\n",
    "latest = df[['Temperature', 'Humidity']].tail(3)\n",
    "\n",
    "latest_features = pd.DataFrame({\n",
    "    \"temp_lag1\": [latest[\"Temperature\"].iloc[2]],\n",
    "    \"temp_lag2\": [latest[\"Temperature\"].iloc[1]],\n",
    "    \"temp_lag3\": [latest[\"Temperature\"].iloc[0]],\n",
    "    \"hum_lag1\":  [latest[\"Humidity\"].iloc[2]],\n",
    "    \"hum_lag2\":  [latest[\"Humidity\"].iloc[1]],\n",
    "    \"hum_lag3\":  [latest[\"Humidity\"].iloc[0]],\n",
    "})\n",
    "\n",
    "# Predict: returns [[pred_temp, pred_hum]]\n",
    "pred = rf.predict(latest_features)[0]\n",
    "pred_temp, pred_hum = pred[0], pred[1]\n",
    "\n",
    "print(f\"Next reading forecast -> Temp: {pred_temp:.2f} °C, Humidity: {pred_hum:.1f} %\")\n"
   ]
  }
 ],
 "metadata": {
  "kernelspec": {
   "display_name": "venv",
   "language": "python",
   "name": "python3"
  },
  "language_info": {
   "codemirror_mode": {
    "name": "ipython",
    "version": 3
   },
   "file_extension": ".py",
   "mimetype": "text/x-python",
   "name": "python",
   "nbconvert_exporter": "python",
   "pygments_lexer": "ipython3",
   "version": "3.10.11"
  }
 },
 "nbformat": 4,
 "nbformat_minor": 5
}
